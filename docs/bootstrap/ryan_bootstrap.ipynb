{
 "cells": [
  {
   "cell_type": "markdown",
   "metadata": {
    "collapsed": true,
    "pycharm": {
     "name": "#%% md\n"
    }
   },
   "source": [
    "# Taxi Driver Boostrap"
   ]
  },
  {
   "cell_type": "code",
   "execution_count": 2,
   "outputs": [],
   "source": [
    "# python 3.9.7\n",
    "import os\n",
    "import sys\n",
    "\n",
    "# if jupyter python path is being a bitch\n",
    "# !{sys.executable} -m pip install pygame\n",
    "\n",
    "import gym\n",
    "import numpy as np\n",
    "import torch\n",
    "import time\n",
    "import matplotlib.pyplot as plt\n",
    "import pickle\n",
    "\n"
   ],
   "metadata": {
    "collapsed": false,
    "pycharm": {
     "name": "#%%\n"
    }
   }
  },
  {
   "cell_type": "markdown",
   "source": [
    "## Test Environment"
   ],
   "metadata": {
    "collapsed": false,
    "pycharm": {
     "name": "#%% md\n"
    }
   }
  },
  {
   "cell_type": "code",
   "execution_count": 8,
   "outputs": [
    {
     "name": "stdout",
     "output_type": "stream",
     "text": [
      "ValuesView(├──CartPole: [ v0, v1 ]\n",
      "├──MountainCar: [ v0 ]\n",
      "├──MountainCarContinuous: [ v0 ]\n",
      "├──Pendulum: [ v1 ]\n",
      "├──Acrobot: [ v1 ]\n",
      "├──LunarLander: [ v2 ]\n",
      "├──LunarLanderContinuous: [ v2 ]\n",
      "├──BipedalWalker: [ v3 ]\n",
      "├──BipedalWalkerHardcore: [ v3 ]\n",
      "├──CarRacing: [ v1 ]\n",
      "├──Blackjack: [ v1 ]\n",
      "├──FrozenLake: [ v1 ]\n",
      "├──FrozenLake8x8: [ v1 ]\n",
      "├──CliffWalking: [ v0 ]\n",
      "├──Taxi: [ v3 ]\n",
      "├──Reacher: [ v2 ]\n",
      "├──Pusher: [ v2 ]\n",
      "├──Thrower: [ v2 ]\n",
      "├──Striker: [ v2 ]\n",
      "├──InvertedPendulum: [ v2 ]\n",
      "├──InvertedDoublePendulum: [ v2 ]\n",
      "├──HalfCheetah: [ v2, v3 ]\n",
      "├──Hopper: [ v2, v3 ]\n",
      "├──Swimmer: [ v2, v3 ]\n",
      "├──Walker2d: [ v2, v3 ]\n",
      "├──Ant: [ v2, v3 ]\n",
      "├──Humanoid: [ v2, v3 ]\n",
      "└──HumanoidStandup: [ v2 ]\n",
      ")\n"
     ]
    }
   ],
   "source": [
    "print(gym.envs.registry.all())"
   ],
   "metadata": {
    "collapsed": false,
    "pycharm": {
     "name": "#%%\n"
    }
   }
  },
  {
   "cell_type": "code",
   "execution_count": 4,
   "outputs": [
    {
     "name": "stdout",
     "output_type": "stream",
     "text": [
      "0\n",
      "1\n",
      "1\n",
      "0\n",
      "0\n",
      "4\n",
      "4\n",
      "0\n",
      "0\n",
      "0\n",
      "0\n",
      "4\n",
      "4\n",
      "Episode finished after 13 timesteps\n",
      "0\n",
      "4\n",
      "0\n",
      "0\n",
      "1\n",
      "0\n",
      "0\n",
      "1\n",
      "2\n",
      "2\n",
      "2\n",
      "3\n",
      "3\n",
      "Episode finished after 13 timesteps\n",
      "0\n",
      "4\n",
      "Episode finished after 2 timesteps\n",
      "0\n",
      "0\n",
      "0\n",
      "0\n",
      "1\n",
      "1\n",
      "Episode finished after 6 timesteps\n",
      "0\n",
      "0\n",
      "0\n",
      "0\n",
      "0\n",
      "0\n",
      "0\n",
      "4\n",
      "Episode finished after 8 timesteps\n",
      "0\n",
      "1\n",
      "1\n",
      "2\n",
      "2\n",
      "3\n",
      "2\n",
      "2\n",
      "2\n",
      "1\n",
      "Episode finished after 10 timesteps\n",
      "0\n",
      "1\n",
      "1\n",
      "2\n",
      "2\n",
      "3\n",
      "3\n",
      "2\n",
      "1\n",
      "1\n",
      "0\n",
      "1\n",
      "2\n",
      "1\n",
      "2\n",
      "6\n",
      "10\n",
      "14\n",
      "14\n",
      "10\n",
      "6\n",
      "10\n",
      "9\n",
      "8\n",
      "Episode finished after 24 timesteps\n",
      "0\n",
      "0\n",
      "0\n",
      "0\n",
      "0\n",
      "0\n",
      "4\n",
      "0\n",
      "0\n",
      "0\n",
      "0\n",
      "0\n",
      "0\n",
      "0\n",
      "4\n",
      "0\n",
      "1\n",
      "Episode finished after 17 timesteps\n",
      "0\n",
      "4\n",
      "Episode finished after 2 timesteps\n",
      "0\n",
      "1\n",
      "2\n",
      "3\n",
      "2\n",
      "1\n",
      "1\n",
      "0\n",
      "0\n",
      "1\n",
      "2\n",
      "3\n",
      "3\n",
      "3\n",
      "Episode finished after 14 timesteps\n",
      "0\n",
      "1\n",
      "Episode finished after 2 timesteps\n",
      "0\n",
      "0\n",
      "0\n",
      "4\n",
      "8\n",
      "Episode finished after 5 timesteps\n",
      "0\n",
      "0\n",
      "0\n",
      "0\n",
      "0\n",
      "0\n",
      "4\n",
      "4\n",
      "4\n",
      "4\n",
      "Episode finished after 10 timesteps\n",
      "0\n",
      "0\n",
      "1\n",
      "Episode finished after 3 timesteps\n",
      "0\n",
      "0\n",
      "4\n",
      "Episode finished after 3 timesteps\n",
      "0\n",
      "4\n",
      "Episode finished after 2 timesteps\n",
      "0\n",
      "0\n",
      "0\n",
      "0\n",
      "4\n",
      "4\n",
      "0\n",
      "0\n",
      "0\n",
      "0\n",
      "4\n",
      "Episode finished after 11 timesteps\n",
      "0\n",
      "0\n",
      "0\n",
      "1\n",
      "Episode finished after 4 timesteps\n",
      "0\n",
      "4\n",
      "8\n",
      "8\n",
      "8\n",
      "9\n",
      "8\n",
      "8\n",
      "4\n",
      "8\n",
      "Episode finished after 10 timesteps\n",
      "0\n",
      "0\n",
      "0\n",
      "0\n",
      "4\n",
      "4\n",
      "8\n",
      "Episode finished after 7 timesteps\n"
     ]
    }
   ],
   "source": [
    "env = gym.make('CartPole-v0')\n",
    "for i_episode in range(20):\n",
    "    observation = env.reset()\n",
    "    for t in range(100):\n",
    "        env.render()\n",
    "        print(observation)\n",
    "        action = env.action_space.sample()\n",
    "        observation, reward, done, info = env.step(action)\n",
    "        if done:\n",
    "            print(\"Episode finished after {} timesteps\".format(t+1))\n",
    "            break\n",
    "env.close()"
   ],
   "metadata": {
    "collapsed": false,
    "pycharm": {
     "name": "#%%\n"
    }
   }
  },
  {
   "cell_type": "markdown",
   "source": [
    "## Frozen Lake"
   ],
   "metadata": {
    "collapsed": false,
    "pycharm": {
     "name": "#%% md\n"
    }
   }
  },
  {
   "cell_type": "markdown",
   "source": [
    "## Q-Learning"
   ],
   "metadata": {
    "collapsed": false,
    "pycharm": {
     "name": "#%% md\n"
    }
   }
  },
  {
   "cell_type": "code",
   "execution_count": 4,
   "outputs": [
    {
     "name": "stdout",
     "output_type": "stream",
     "text": [
      "Action Space:          Discrete(4)\n",
      "Observation Space:     Discrete(16)\n"
     ]
    }
   ],
   "source": [
    "env = gym.make('FrozenLake-v1')\n",
    "print(\"Action Space:         \", env.action_space)\n",
    "print(\"Observation Space:    \", env.observation_space)"
   ],
   "metadata": {
    "collapsed": false,
    "pycharm": {
     "name": "#%%\n"
    }
   }
  },
  {
   "cell_type": "code",
   "execution_count": 5,
   "outputs": [],
   "source": [
    "def solve_frozen_lake_qlearning():\n",
    "    gamma = 0.95\n",
    "    learning_rate = 0.9\n",
    "    egreedy = 0.7\n",
    "    egreedy_final = 0.1\n",
    "    egreedy_decay = 0.999\n",
    "    num_episodes = 1000\n",
    "    steps_total = []\n",
    "    rewards_total = []\n",
    "    egreedy_total = []\n",
    "    number_of_states = env.observation_space.n\n",
    "    number_of_actions = env.action_space.n\n",
    "    Q = torch.zeros([number_of_states, number_of_actions])\n",
    "\n",
    "    for i_episode in range(num_episodes):\n",
    "\n",
    "        # resets the environment\n",
    "        state = env.reset()\n",
    "        step = 0\n",
    "        while True:\n",
    "\n",
    "            step += 1\n",
    "\n",
    "            random_for_egreedy = torch.rand(1)[0]\n",
    "\n",
    "\n",
    "            if random_for_egreedy > egreedy:\n",
    "                random_values = Q[state] + torch.rand(1,number_of_actions) / 1000\n",
    "                action = torch.max(random_values,1)[1][0]\n",
    "                action = action.item()\n",
    "            else:\n",
    "                action = env.action_space.sample()\n",
    "\n",
    "            if egreedy > egreedy_final:\n",
    "                egreedy *= egreedy_decay\n",
    "\n",
    "            new_state, reward, done, info = env.step(action)\n",
    "\n",
    "            # Filling the Q Table\n",
    "            Q[state, action] = reward + gamma * torch.max(Q[new_state])\n",
    "\n",
    "            # Setting new state for next action\n",
    "            state = new_state\n",
    "\n",
    "            # env.render()\n",
    "            # time.sleep(0.4)\n",
    "\n",
    "            if done:\n",
    "                steps_total.append(step)\n",
    "                rewards_total.append(reward)\n",
    "                egreedy_total.append(egreedy)\n",
    "                if i_episode % 10 == 0:\n",
    "                    print('Episode: {} Reward: {} Steps Taken: {}'.format(i_episode,reward, step))\n",
    "                break\n",
    "\n"
   ],
   "metadata": {
    "collapsed": false,
    "pycharm": {
     "name": "#%%\n"
    }
   }
  },
  {
   "cell_type": "code",
   "execution_count": 6,
   "outputs": [
    {
     "name": "stdout",
     "output_type": "stream",
     "text": [
      "Episode: 0 Reward: 0.0 Steps Taken: 30\n",
      "Episode: 10 Reward: 0.0 Steps Taken: 9\n",
      "Episode: 20 Reward: 0.0 Steps Taken: 21\n",
      "Episode: 30 Reward: 0.0 Steps Taken: 9\n",
      "Episode: 40 Reward: 0.0 Steps Taken: 8\n",
      "Episode: 50 Reward: 0.0 Steps Taken: 3\n",
      "Episode: 60 Reward: 0.0 Steps Taken: 15\n",
      "Episode: 70 Reward: 0.0 Steps Taken: 12\n",
      "Episode: 80 Reward: 0.0 Steps Taken: 9\n",
      "Episode: 90 Reward: 0.0 Steps Taken: 2\n",
      "Episode: 100 Reward: 0.0 Steps Taken: 6\n",
      "Episode: 110 Reward: 0.0 Steps Taken: 6\n",
      "Episode: 120 Reward: 0.0 Steps Taken: 5\n",
      "Episode: 130 Reward: 0.0 Steps Taken: 5\n",
      "Episode: 140 Reward: 0.0 Steps Taken: 13\n",
      "Episode: 150 Reward: 0.0 Steps Taken: 9\n",
      "Episode: 160 Reward: 0.0 Steps Taken: 7\n",
      "Episode: 170 Reward: 0.0 Steps Taken: 5\n",
      "Episode: 180 Reward: 0.0 Steps Taken: 6\n",
      "Episode: 190 Reward: 0.0 Steps Taken: 7\n",
      "Episode: 200 Reward: 0.0 Steps Taken: 9\n",
      "Episode: 210 Reward: 0.0 Steps Taken: 3\n",
      "Episode: 220 Reward: 0.0 Steps Taken: 4\n",
      "Episode: 230 Reward: 0.0 Steps Taken: 9\n",
      "Episode: 240 Reward: 0.0 Steps Taken: 3\n",
      "Episode: 250 Reward: 0.0 Steps Taken: 8\n",
      "Episode: 260 Reward: 0.0 Steps Taken: 6\n",
      "Episode: 270 Reward: 0.0 Steps Taken: 2\n",
      "Episode: 280 Reward: 0.0 Steps Taken: 27\n",
      "Episode: 290 Reward: 0.0 Steps Taken: 8\n",
      "Episode: 300 Reward: 0.0 Steps Taken: 29\n",
      "Episode: 310 Reward: 0.0 Steps Taken: 16\n",
      "Episode: 320 Reward: 0.0 Steps Taken: 3\n",
      "Episode: 330 Reward: 0.0 Steps Taken: 6\n",
      "Episode: 340 Reward: 0.0 Steps Taken: 6\n",
      "Episode: 350 Reward: 0.0 Steps Taken: 3\n",
      "Episode: 360 Reward: 0.0 Steps Taken: 7\n",
      "Episode: 370 Reward: 0.0 Steps Taken: 4\n",
      "Episode: 380 Reward: 0.0 Steps Taken: 8\n",
      "Episode: 390 Reward: 0.0 Steps Taken: 3\n",
      "Episode: 400 Reward: 0.0 Steps Taken: 2\n",
      "Episode: 410 Reward: 0.0 Steps Taken: 3\n",
      "Episode: 420 Reward: 0.0 Steps Taken: 22\n",
      "Episode: 430 Reward: 0.0 Steps Taken: 33\n",
      "Episode: 440 Reward: 0.0 Steps Taken: 6\n",
      "Episode: 450 Reward: 0.0 Steps Taken: 18\n",
      "Episode: 460 Reward: 0.0 Steps Taken: 3\n",
      "Episode: 470 Reward: 0.0 Steps Taken: 8\n",
      "Episode: 480 Reward: 0.0 Steps Taken: 9\n",
      "Episode: 490 Reward: 0.0 Steps Taken: 3\n",
      "Episode: 500 Reward: 0.0 Steps Taken: 4\n",
      "Episode: 510 Reward: 0.0 Steps Taken: 9\n",
      "Episode: 520 Reward: 0.0 Steps Taken: 6\n",
      "Episode: 530 Reward: 0.0 Steps Taken: 7\n",
      "Episode: 540 Reward: 0.0 Steps Taken: 22\n",
      "Episode: 550 Reward: 0.0 Steps Taken: 16\n",
      "Episode: 560 Reward: 0.0 Steps Taken: 16\n",
      "Episode: 570 Reward: 0.0 Steps Taken: 6\n",
      "Episode: 580 Reward: 0.0 Steps Taken: 13\n",
      "Episode: 590 Reward: 0.0 Steps Taken: 4\n",
      "Episode: 600 Reward: 0.0 Steps Taken: 11\n",
      "Episode: 610 Reward: 0.0 Steps Taken: 4\n",
      "Episode: 620 Reward: 0.0 Steps Taken: 2\n",
      "Episode: 630 Reward: 0.0 Steps Taken: 7\n",
      "Episode: 640 Reward: 1.0 Steps Taken: 10\n",
      "Episode: 650 Reward: 0.0 Steps Taken: 6\n",
      "Episode: 660 Reward: 0.0 Steps Taken: 14\n",
      "Episode: 670 Reward: 0.0 Steps Taken: 4\n",
      "Episode: 680 Reward: 0.0 Steps Taken: 2\n",
      "Episode: 690 Reward: 0.0 Steps Taken: 12\n",
      "Episode: 700 Reward: 1.0 Steps Taken: 15\n",
      "Episode: 710 Reward: 0.0 Steps Taken: 6\n",
      "Episode: 720 Reward: 0.0 Steps Taken: 11\n",
      "Episode: 730 Reward: 1.0 Steps Taken: 12\n",
      "Episode: 740 Reward: 0.0 Steps Taken: 21\n",
      "Episode: 750 Reward: 0.0 Steps Taken: 14\n",
      "Episode: 760 Reward: 0.0 Steps Taken: 7\n",
      "Episode: 770 Reward: 0.0 Steps Taken: 9\n",
      "Episode: 780 Reward: 0.0 Steps Taken: 3\n",
      "Episode: 790 Reward: 0.0 Steps Taken: 5\n",
      "Episode: 800 Reward: 0.0 Steps Taken: 24\n",
      "Episode: 810 Reward: 0.0 Steps Taken: 5\n",
      "Episode: 820 Reward: 0.0 Steps Taken: 7\n",
      "Episode: 830 Reward: 0.0 Steps Taken: 2\n",
      "Episode: 840 Reward: 0.0 Steps Taken: 53\n",
      "Episode: 850 Reward: 0.0 Steps Taken: 14\n",
      "Episode: 860 Reward: 0.0 Steps Taken: 4\n",
      "Episode: 870 Reward: 0.0 Steps Taken: 4\n",
      "Episode: 880 Reward: 0.0 Steps Taken: 11\n",
      "Episode: 890 Reward: 0.0 Steps Taken: 13\n",
      "Episode: 900 Reward: 0.0 Steps Taken: 8\n",
      "Episode: 910 Reward: 0.0 Steps Taken: 2\n",
      "Episode: 920 Reward: 0.0 Steps Taken: 5\n",
      "Episode: 930 Reward: 0.0 Steps Taken: 2\n",
      "Episode: 940 Reward: 0.0 Steps Taken: 10\n",
      "Episode: 950 Reward: 0.0 Steps Taken: 6\n",
      "Episode: 960 Reward: 0.0 Steps Taken: 10\n",
      "Episode: 970 Reward: 0.0 Steps Taken: 2\n",
      "Episode: 980 Reward: 0.0 Steps Taken: 3\n",
      "Episode: 990 Reward: 0.0 Steps Taken: 5\n"
     ]
    }
   ],
   "source": [
    "solve_frozen_lake_qlearning()"
   ],
   "metadata": {
    "collapsed": false,
    "pycharm": {
     "name": "#%%\n"
    }
   }
  },
  {
   "cell_type": "markdown",
   "source": [
    "## SARSA"
   ],
   "metadata": {
    "collapsed": false,
    "pycharm": {
     "name": "#%% md\n"
    }
   }
  },
  {
   "cell_type": "code",
   "execution_count": 5,
   "outputs": [
    {
     "name": "stdout",
     "output_type": "stream",
     "text": [
      "Action space: 4\n",
      "State space: 9\n"
     ]
    }
   ],
   "source": [
    "import random\n",
    "\n",
    "import gym\n",
    "import gym.envs.toy_text\n",
    "import numpy as np\n",
    "from tqdm import trange\n",
    "import matplotlib.pyplot as plt\n",
    "%matplotlib inline\n",
    "\n",
    "# define path\n",
    "RESULT_IMG_PATH = 'img/result_img_{}.png'\n",
    "\n",
    "amap='SFFFHFFFG'\n",
    "grid_shape = int(np.sqrt(len(amap)))\n",
    "custom_map = np.array(list(amap)).reshape(grid_shape, grid_shape)\n",
    "env = gym.envs.toy_text.frozen_lake.FrozenLakeEnv(desc=custom_map).unwrapped\n",
    "n_actions = env.action_space.n\n",
    "n_states = env.observation_space.n\n",
    "print(\"Action space:\", n_actions)\n",
    "print(\"State space:\", n_states)\n"
   ],
   "metadata": {
    "collapsed": false,
    "pycharm": {
     "name": "#%%\n"
    }
   }
  },
  {
   "cell_type": "code",
   "execution_count": null,
   "outputs": [],
   "source": [
    "done = False\n",
    "env.reset()\n",
    "while not done:\n",
    "    # randomly pick an action\n",
    "    action = np.random.randint(n_actions)\n",
    "    # get feedback from the environment\n",
    "    obvervation, reward, done, info = env.step(action)\n",
    "    # show the environment\n",
    "    env.render()"
   ],
   "metadata": {
    "collapsed": false,
    "pycharm": {
     "name": "#%%\n"
    }
   }
  },
  {
   "cell_type": "code",
   "execution_count": 2,
   "outputs": [
    {
     "name": "stderr",
     "output_type": "stream",
     "text": [
      "Episode 100 Reward 0.0: 100%|██████████| 100/100 [00:00<00:00, 582.03it/s]\n"
     ]
    }
   ],
   "source": [
    "n_episodes = 100\n",
    "reward_array = np.zeros(n_episodes)\n",
    "# performance of an agent taking random actions\n",
    "t = trange(n_episodes)\n",
    "# for each episode\n",
    "for i in t:\n",
    "    # reset environment\n",
    "    env.reset()\n",
    "    # done flag\n",
    "    done = False\n",
    "    while not done:\n",
    "        # randomly pick an action\n",
    "        action = np.random.randint(n_actions)\n",
    "        # get feedback from the environment\n",
    "        _, reward, done, _ = env.step(action)\n",
    "        if done:\n",
    "            # update processing bar\n",
    "            t.set_description('Episode {} Reward {}'.format(i + 1, reward))\n",
    "            t.refresh()\n",
    "            reward_array[i] = reward\n",
    "            break\n",
    "env.close()"
   ],
   "metadata": {
    "collapsed": false,
    "pycharm": {
     "name": "#%%\n"
    }
   }
  },
  {
   "cell_type": "code",
   "execution_count": 3,
   "outputs": [
    {
     "name": "stdout",
     "output_type": "stream",
     "text": [
      "Averaged reward per episode 0.15\n"
     ]
    }
   ],
   "source": [
    "avg_reward = round(np.mean(reward_array), 4)\n",
    "print('Averaged reward per episode {}'.format(avg_reward))"
   ],
   "metadata": {
    "collapsed": false,
    "pycharm": {
     "name": "#%%\n"
    }
   }
  },
  {
   "cell_type": "code",
   "execution_count": 4,
   "outputs": [
    {
     "ename": "NameError",
     "evalue": "name 'RESULT_IMG_PATH' is not defined",
     "output_type": "error",
     "traceback": [
      "\u001B[0;31m---------------------------------------------------------------------------\u001B[0m",
      "\u001B[0;31mNameError\u001B[0m                                 Traceback (most recent call last)",
      "\u001B[0;32m<ipython-input-4-b01de3992e53>\u001B[0m in \u001B[0;36m<module>\u001B[0;34m\u001B[0m\n\u001B[1;32m      7\u001B[0m plt.title('Random Strategy\\nReward Per Episode for {} Episodes - Average: {:.2f}'.format(n_episodes, avg_reward), \n\u001B[1;32m      8\u001B[0m           fontsize=12)\n\u001B[0;32m----> 9\u001B[0;31m \u001B[0mplt\u001B[0m\u001B[0;34m.\u001B[0m\u001B[0msavefig\u001B[0m\u001B[0;34m(\u001B[0m\u001B[0mRESULT_IMG_PATH\u001B[0m\u001B[0;34m.\u001B[0m\u001B[0mformat\u001B[0m\u001B[0;34m(\u001B[0m\u001B[0;36m0\u001B[0m\u001B[0;34m)\u001B[0m\u001B[0;34m,\u001B[0m \u001B[0mdpi\u001B[0m\u001B[0;34m=\u001B[0m\u001B[0;36m100\u001B[0m\u001B[0;34m,\u001B[0m \u001B[0mbbox_inches\u001B[0m\u001B[0;34m=\u001B[0m\u001B[0;34m'tight'\u001B[0m\u001B[0;34m)\u001B[0m\u001B[0;34m\u001B[0m\u001B[0;34m\u001B[0m\u001B[0m\n\u001B[0m\u001B[1;32m     10\u001B[0m \u001B[0mplt\u001B[0m\u001B[0;34m.\u001B[0m\u001B[0mshow\u001B[0m\u001B[0;34m(\u001B[0m\u001B[0;34m)\u001B[0m\u001B[0;34m\u001B[0m\u001B[0;34m\u001B[0m\u001B[0m\n",
      "\u001B[0;31mNameError\u001B[0m: name 'RESULT_IMG_PATH' is not defined"
     ]
    },
    {
     "data": {
      "text/plain": "<Figure size 600x600 with 1 Axes>",
      "image/png": "[encoded data removed]"
     },
     "metadata": {
      "needs_background": "light"
     },
     "output_type": "display_data"
    }
   ],
   "source": [
    "plt.subplots(figsize = (6, 6), dpi=100)\n",
    "plt.plot(reward_array, color='black', linewidth=0.5)\n",
    "plt.ylabel('Reward', fontsize=12)\n",
    "plt.xlabel('Episode', fontsize=12)\n",
    "plt.xticks(fontsize=12)\n",
    "plt.yticks(fontsize=12)\n",
    "plt.title('Random Strategy\\nReward Per Episode for {} Episodes - Average: {:.2f}'.format(n_episodes, avg_reward),\n",
    "          fontsize=12)\n",
    "# plt.savefig(RESULT_IMG_PATH.format(0), dpi=100, bbox_inches='tight')\n",
    "plt.show()"
   ],
   "metadata": {
    "collapsed": false,
    "pycharm": {
     "name": "#%%\n"
    }
   }
  },
  {
   "cell_type": "markdown",
   "source": [
    "### Training"
   ],
   "metadata": {
    "collapsed": false,
    "pycharm": {
     "name": "#%% md\n"
    }
   }
  },
  {
   "cell_type": "code",
   "execution_count": 6,
   "outputs": [],
   "source": [
    "# initialize the agent’s Q-table to zeros\n",
    "def init_q(s, a):\n",
    "    \"\"\"\n",
    "    s: number of states\n",
    "    a: number of actions\n",
    "    \"\"\"\n",
    "    return np.zeros((s, a))\n",
    "\n",
    "# epsilon-greedy exploration strategy\n",
    "def epsilon_greedy(Q, epsilon, n_actions, s):\n",
    "    \"\"\"\n",
    "    Q: Q Table\n",
    "    epsilon: exploration parameter\n",
    "    n_actions: number of actions\n",
    "    s: state\n",
    "    \"\"\"\n",
    "    # selects a random action with probability epsilon\n",
    "    if np.random.random() <= epsilon:\n",
    "        return np.random.randint(n_actions)\n",
    "    else:\n",
    "        return np.argmax(Q[s, :])\n",
    "\n",
    "# SARSA Process\n",
    "def sarsa(alpha, gamma, epsilon, n_episodes):\n",
    "    \"\"\"\n",
    "    alpha: learning rate\n",
    "    gamma: exploration parameter\n",
    "    n_episodes: number of episodes\n",
    "    \"\"\"\n",
    "    # initialize Q table\n",
    "    Q = init_q(n_states, n_actions)\n",
    "    t = trange(n_episodes)\n",
    "    reward_array = np.zeros(n_episodes)\n",
    "    for i in t:\n",
    "        # initial state\n",
    "        s = env.reset()\n",
    "        # initial action\n",
    "        a = epsilon_greedy(Q, epsilon, n_actions, s)\n",
    "        done = False\n",
    "        while not done:\n",
    "            s_, reward, done, _ = env.step(a)\n",
    "            a_ = epsilon_greedy(Q, epsilon, n_actions, s_)\n",
    "            # update Q table\n",
    "            Q[s, a] += alpha * (reward + (gamma * Q[s_, a_]) - Q[s, a])\n",
    "            if done:\n",
    "                t.set_description('Episode {} Reward {}'.format(i + 1, reward))\n",
    "                t.refresh()\n",
    "                reward_array[i] = reward\n",
    "                break\n",
    "            s, a = s_, a_\n",
    "    env.close()\n",
    "    return Q, reward_array"
   ],
   "metadata": {
    "collapsed": false,
    "pycharm": {
     "name": "#%%\n"
    }
   }
  },
  {
   "cell_type": "code",
   "execution_count": 7,
   "outputs": [],
   "source": [
    "# experiment settings\n",
    "alpha = 0.1 # learning rate\n",
    "gamma = 0.9 # discount factor\n",
    "epsilon=0.5 # exploration parameter\n",
    "n_episodes = 1000 # number of training episodes"
   ],
   "metadata": {
    "collapsed": false,
    "pycharm": {
     "name": "#%%\n"
    }
   }
  },
  {
   "cell_type": "code",
   "execution_count": 8,
   "outputs": [
    {
     "name": "stderr",
     "output_type": "stream",
     "text": [
      "Episode 1000 Reward 0.0: 100%|██████████| 1000/1000 [00:05<00:00, 177.50it/s]\n"
     ]
    }
   ],
   "source": [
    "# training\n",
    "Q, reward_array = sarsa(alpha, gamma, epsilon, n_episodes)"
   ],
   "metadata": {
    "collapsed": false,
    "pycharm": {
     "name": "#%%\n"
    }
   }
  },
  {
   "cell_type": "code",
   "execution_count": 9,
   "outputs": [
    {
     "data": {
      "text/plain": "array([[0.1164595 , 0.12155909, 0.12441601, 0.12339095],\n       [0.09722865, 0.08112711, 0.12733082, 0.1466203 ],\n       [0.30050647, 0.32156768, 0.37421591, 0.22484981],\n       [0.15590415, 0.09792591, 0.09522506, 0.07145169],\n       [0.        , 0.        , 0.        , 0.        ],\n       [0.42740522, 0.43790027, 0.57565092, 0.18722926],\n       [0.19644036, 0.27332096, 0.2102196 , 0.22771737],\n       [0.25893197, 0.44231773, 0.43774671, 0.51808568],\n       [0.        , 0.        , 0.        , 0.        ]])"
     },
     "execution_count": 9,
     "metadata": {},
     "output_type": "execute_result"
    }
   ],
   "source": [
    "Q"
   ],
   "metadata": {
    "collapsed": false,
    "pycharm": {
     "name": "#%%\n"
    }
   }
  },
  {
   "cell_type": "code",
   "execution_count": 10,
   "outputs": [
    {
     "name": "stdout",
     "output_type": "stream",
     "text": [
      "Averaged reward per episode 0.273\n"
     ]
    }
   ],
   "source": [
    "# averaged reward per episode\n",
    "avg_reward = round(np.mean(reward_array), 4)\n",
    "print('Averaged reward per episode {}'.format(avg_reward))"
   ],
   "metadata": {
    "collapsed": false,
    "pycharm": {
     "name": "#%%\n"
    }
   }
  },
  {
   "cell_type": "markdown",
   "source": [
    "### Testing"
   ],
   "metadata": {
    "collapsed": false,
    "pycharm": {
     "name": "#%% md\n"
    }
   }
  },
  {
   "cell_type": "code",
   "execution_count": 11,
   "outputs": [],
   "source": [
    "def eva(Q, n_episodes):\n",
    "    \"\"\"\n",
    "    Q: trained Q table\n",
    "    n_episodes: number of episodes\n",
    "    \"\"\"\n",
    "    t = trange(n_episodes)\n",
    "    reward_array = np.zeros(n_episodes)\n",
    "    for i in t:\n",
    "        # initial state\n",
    "        s = env.reset()\n",
    "        # initial action\n",
    "        a = np.argmax(Q[s])\n",
    "        done = False\n",
    "        while not done:\n",
    "            s_, reward, done, _ = env.step(a)\n",
    "            # pick an action according the state and trained Q table\n",
    "            a_ = np.argmax(Q[s_])\n",
    "            if done:\n",
    "                t.set_description('Episode {} Reward {}'.format(i + 1, reward))\n",
    "                t.refresh()\n",
    "                reward_array[i] = reward\n",
    "                break\n",
    "            s, a = s_, a_\n",
    "    env.close()\n",
    "    return reward_array"
   ],
   "metadata": {
    "collapsed": false,
    "pycharm": {
     "name": "#%%\n"
    }
   }
  },
  {
   "cell_type": "code",
   "execution_count": 12,
   "outputs": [
    {
     "name": "stderr",
     "output_type": "stream",
     "text": [
      "Episode 100 Reward 1.0: 100%|██████████| 100/100 [00:00<00:00, 308.39it/s]\n"
     ]
    }
   ],
   "source": [
    "# experiment settings\n",
    "n_episodes = 100 # number of testing episodes\n",
    "reward_array = eva(Q, n_episodes)"
   ],
   "metadata": {
    "collapsed": false,
    "pycharm": {
     "name": "#%%\n"
    }
   }
  },
  {
   "cell_type": "code",
   "execution_count": 13,
   "outputs": [
    {
     "name": "stdout",
     "output_type": "stream",
     "text": [
      "Averaged reward per episode 0.75\n"
     ]
    }
   ],
   "source": [
    "# averaged reward per episode\n",
    "avg_reward = round(np.mean(reward_array), 4)\n",
    "print('Averaged reward per episode {}'.format(avg_reward))"
   ],
   "metadata": {
    "collapsed": false,
    "pycharm": {
     "name": "#%%\n"
    }
   }
  },
  {
   "cell_type": "code",
   "execution_count": 14,
   "outputs": [
    {
     "data": {
      "text/plain": "<Figure size 600x600 with 1 Axes>",
      "image/png": "[encoded data removed]"
     },
     "metadata": {
      "needs_background": "light"
     },
     "output_type": "display_data"
    }
   ],
   "source": [
    "# show reward per episode\n",
    "plt.subplots(figsize = (6, 6), dpi=100)\n",
    "plt.plot(reward_array, color='black', linewidth=0.5)\n",
    "plt.ylabel('Reward', fontsize=12)\n",
    "plt.xlabel('Episode', fontsize=12)\n",
    "plt.xticks(fontsize=12)\n",
    "plt.yticks(fontsize=12)\n",
    "plt.title('SARSA Agent\\nReward Per Episode for {} Episodes - Average: {:.2f}'.format(n_episodes, avg_reward),\n",
    "          fontsize=12)\n",
    "# plt.savefig(RESULT_IMG_PATH.format(1), dpi=100, bbox_inches='tight')\n",
    "plt.show()"
   ],
   "metadata": {
    "collapsed": false,
    "pycharm": {
     "name": "#%%\n"
    }
   }
  },
  {
   "cell_type": "code",
   "execution_count": 15,
   "outputs": [],
   "source": [
    "# trained SARSA agent in Frozen Lake\n",
    "done = False\n",
    "s = env.reset()\n",
    "env.render()\n",
    "while not done:\n",
    "    # pick an action\n",
    "    a = np.argmax(Q[s])\n",
    "    # get feedback from the environment\n",
    "    s_, _, done, _ = env.step(a)\n",
    "    # show the environment\n",
    "    env.render()\n",
    "    s = s_"
   ],
   "metadata": {
    "collapsed": false,
    "pycharm": {
     "name": "#%%\n"
    }
   }
  },
  {
   "cell_type": "code",
   "execution_count": null,
   "outputs": [],
   "source": [],
   "metadata": {
    "collapsed": false,
    "pycharm": {
     "name": "#%%\n"
    }
   }
  }
 ],
 "metadata": {
  "kernelspec": {
   "display_name": "Python 3",
   "language": "python",
   "name": "python3"
  },
  "language_info": {
   "codemirror_mode": {
    "name": "ipython",
    "version": 2
   },
   "file_extension": ".py",
   "mimetype": "text/x-python",
   "name": "python",
   "nbconvert_exporter": "python",
   "pygments_lexer": "ipython2",
   "version": "2.7.6"
  }
 },
 "nbformat": 4,
 "nbformat_minor": 0
}